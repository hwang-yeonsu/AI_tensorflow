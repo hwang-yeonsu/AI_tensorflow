{
 "cells": [
  {
   "cell_type": "code",
   "execution_count": 10,
   "id": "blond-recorder",
   "metadata": {},
   "outputs": [],
   "source": [
    "def smooth_curve(points, factor=0.9):\n",
    "    smoothed_points=[]\n",
    "    for point in points:\n",
    "        if smoothed_points:\n",
    "            previous = smoothed_points[-1]\n",
    "            smoothed_points.append(previous*factor + point*(1-factor))\n",
    "        else:\n",
    "            smoothed_points.append(point)\n",
    "    return smoothed_points"
   ]
  },
  {
   "cell_type": "code",
   "execution_count": 11,
   "id": "plain-anxiety",
   "metadata": {},
   "outputs": [],
   "source": [
    "test=[3,5,4,6,7,3]\n",
    "smooth_mae_history = smooth_curve(test)"
   ]
  },
  {
   "cell_type": "code",
   "execution_count": 12,
   "id": "imported-complex",
   "metadata": {
    "scrolled": true
   },
   "outputs": [
    {
     "data": {
      "image/png": "[encoded data removed]",
      "text/plain": [
       "<Figure size 432x288 with 1 Axes>"
      ]
     },
     "metadata": {
      "needs_background": "light"
     },
     "output_type": "display_data"
    }
   ],
   "source": [
    "import matplotlib.pyplot as plt\n",
    "\n",
    "plt.plot(range(1,len(smooth_mae_history)+1), smooth_mae_history)\n",
    "plt.xlabel('Epochs')\n",
    "plt.ylabel('Validation MAE')\n",
    "plt.show()"
   ]
  },
  {
   "cell_type": "code",
   "execution_count": 22,
   "id": "solar-choir",
   "metadata": {},
   "outputs": [
    {
     "name": "stdout",
     "output_type": "stream",
     "text": [
      "[3.74511057e+00 1.14801980e+01 1.11044307e+01 6.18811881e-02\n",
      " 5.57355941e-01 6.26708168e+00 6.90106436e+01 3.74027079e+00\n",
      " 9.44059406e+00 4.05898515e+02 1.84759901e+01 3.54783168e+02\n",
      " 1.27408168e+01]\n",
      "[9.22929073e+00 2.37382770e+01 6.80287253e+00 2.40939633e-01\n",
      " 1.17147847e-01 7.08908627e-01 2.79060634e+01 2.02770050e+00\n",
      " 8.68758849e+00 1.66168506e+02 2.19765689e+00 9.39946015e+01\n",
      " 7.24556085e+00]\n",
      "[[-0.27224633 -0.48361547 -0.43576161 ...  1.14850044  0.44807713\n",
      "   0.8252202 ]\n",
      " [-0.40342651  2.99178419 -1.33391162 ... -1.71818909  0.43190599\n",
      "  -1.32920239]\n",
      " [ 0.1249402  -0.48361547  1.0283258  ...  0.78447637  0.22061726\n",
      "  -1.30850006]\n",
      " ...\n",
      " [-0.40202987  0.99079651 -0.7415148  ... -0.71712291  0.07943894\n",
      "  -0.67776904]\n",
      " [-0.17292018 -0.48361547  1.24588095 ... -1.71818909 -0.98764362\n",
      "   0.42083466]\n",
      " [-0.40422614  2.04394792 -1.20161456 ... -1.30866202  0.23317118\n",
      "  -1.15392266]]\n"
     ]
    }
   ],
   "source": [
    "from keras.datasets import boston_housing\n",
    "\n",
    "(train_data, train_targets), (test_data, test_targets) = boston_housing.load_data()\n",
    "\n",
    "\n",
    "mean=train_data.mean(axis=0)\n",
    "train_data -= mean\n",
    "std=train_data.std(axis=0)\n",
    "train_data /= std\n",
    "\n",
    "print(mean)\n",
    "print(std)\n",
    "print(train_data)"
   ]
  },
  {
   "cell_type": "code",
   "execution_count": 46,
   "id": "finite-neighbor",
   "metadata": {},
   "outputs": [
    {
     "name": "stdout",
     "output_type": "stream",
     "text": [
      "[-1.11803399  0.2236068  -0.4472136   0.89442719  1.56524758 -1.11803399]\n",
      "-1.1102230246251565e-15\n"
     ]
    }
   ],
   "source": [
    "import numpy as np\n",
    "\n",
    "# 원본\n",
    "test=[3,5,4,6,7,3]\n",
    "meam=np.mean(test)\n",
    "std=np.std(test)\n",
    "\n",
    "test-=mean\n",
    "test/=std\n",
    "\n",
    "print(test)\n",
    "\n",
    "print(np.sum(test))\n",
    "\n",
    "\n"
   ]
  },
  {
   "cell_type": "code",
   "execution_count": null,
   "id": "incorporate-mixture",
   "metadata": {},
   "outputs": [],
   "source": []
  }
 ],
 "metadata": {
  "kernelspec": {
   "display_name": "Python 3",
   "language": "python",
   "name": "python3"
  },
  "language_info": {
   "codemirror_mode": {
    "name": "ipython",
    "version": 3
   },
   "file_extension": ".py",
   "mimetype": "text/x-python",
   "name": "python",
   "nbconvert_exporter": "python",
   "pygments_lexer": "ipython3",
   "version": "3.7.0"
  }
 },
 "nbformat": 4,
 "nbformat_minor": 5
}
