{
 "cells": [
  {
   "cell_type": "markdown",
   "id": "d6088a24",
   "metadata": {
    "toc": true
   },
   "source": [
    "<h1>Table of Contents<span class=\"tocSkip\"></span></h1>\n",
    "<div class=\"toc\"><ul class=\"toc-item\"></ul></div>"
   ]
  },
  {
   "cell_type": "code",
   "execution_count": 15,
   "id": "scenic-criticism",
   "metadata": {},
   "outputs": [],
   "source": [
    "import os, shutil\n",
    "\n",
    "## 원본 데이터 경로와 소규모로 분류할 디렉터리 경로 지정\n",
    "original_dataset_dir = './datasets/cats_and_dogs/train'\n",
    "base_dir = './datasets/cats_and_dogs_small'"
   ]
  },
  {
   "cell_type": "code",
   "execution_count": 16,
   "id": "mexican-expression",
   "metadata": {},
   "outputs": [],
   "source": [
    "## base_dir 및 하위 train, validation, test 디렉터리 생성 \n",
    "os.mkdir(base_dir)\n",
    "\n",
    "train_dir = os.path.join(base_dir, 'train')\n",
    "os.mkdir(train_dir)\n",
    "\n",
    "validation_dir = os.path.join(base_dir, 'validation')\n",
    "os.mkdir(validation_dir)\n",
    "\n",
    "test_dir = os.path.join(base_dir, 'test')\n",
    "os.mkdir(test_dir)"
   ]
  },
  {
   "cell_type": "code",
   "execution_count": 17,
   "id": "heated-nutrition",
   "metadata": {},
   "outputs": [],
   "source": [
    "## train_dir 하위 cats, dogs 디렉터리 생성\n",
    "train_cats_dir = os.path.join(train_dir, 'cats')\n",
    "os.mkdir(train_cats_dir)\n",
    "train_dogs_dir = os.path.join(train_dir, 'dogs')\n",
    "os.mkdir(train_dogs_dir)\n",
    "\n",
    "## validation\n",
    "validation_cats_dir = os.path.join(validation_dir, 'cats')\n",
    "os.mkdir(validation_cats_dir)\n",
    "validation_dogs_dir = os.path.join(validation_dir, 'dogs')\n",
    "os.mkdir(validation_dogs_dir)\n",
    "\n",
    "## test\n",
    "test_cats_dir = os.path.join(test_dir, 'cats')\n",
    "os.mkdir(test_cats_dir)\n",
    "test_dogs_dir = os.path.join(test_dir, 'dogs')\n",
    "os.mkdir(test_dogs_dir)"
   ]
  },
  {
   "cell_type": "code",
   "execution_count": 18,
   "id": "natural-woman",
   "metadata": {
    "scrolled": true
   },
   "outputs": [],
   "source": [
    "## original_dir의 cats img를 0~1000까지 train_cats_dir에 복사\n",
    "fnames = ['cat.{}.jpg'.format(i) for i in range(1000)]\n",
    "for fname in fnames:\n",
    "    src = os.path.join(original_dataset_dir, fname)\n",
    "    dst = os.path.join(train_cats_dir, fname)    \n",
    "    shutil.copyfile(src, dst)\n",
    "\n",
    "## validation\n",
    "fnames = ['cat.{}.jpg'.format(i) for i in range(1000,1500)]\n",
    "for fname in fnames:\n",
    "    src = os.path.join(original_dataset_dir, fname)\n",
    "    dst = os.path.join(validation_cats_dir, fname)\n",
    "    shutil.copyfile(src, dst)\n",
    "\n",
    "## test\n",
    "fnames = ['cat.{}.jpg'.format(i) for i in range(1500, 2000)]\n",
    "for fname in fnames:\n",
    "    src = os.path.join(original_dataset_dir, fname)\n",
    "    dst = os.path.join(test_cats_dir, fname)\n",
    "    shutil.copyfile(src, dst)"
   ]
  },
  {
   "cell_type": "code",
   "execution_count": 19,
   "id": "acquired-checkout",
   "metadata": {},
   "outputs": [],
   "source": [
    "## original_dir의 dogs img를 0~1000까지 train_dogs_dir에 복사\n",
    "fnames = ['dog.{}.jpg'.format(i) for i in range(1000)]\n",
    "for fname in fnames:\n",
    "    src = os.path.join(original_dataset_dir, fname)\n",
    "    dst = os.path.join(train_dogs_dir, fname)    \n",
    "    shutil.copyfile(src, dst)\n",
    "\n",
    "## validation\n",
    "fnames = ['dog.{}.jpg'.format(i) for i in range(1000,1500)]\n",
    "for fname in fnames:\n",
    "    src = os.path.join(original_dataset_dir, fname)\n",
    "    dst = os.path.join(validation_dogs_dir, fname)\n",
    "    shutil.copyfile(src, dst)\n",
    "\n",
    "## test\n",
    "fnames = ['dog.{}.jpg'.format(i) for i in range(1500, 2000)]\n",
    "for fname in fnames:\n",
    "    src = os.path.join(original_dataset_dir, fname)\n",
    "    dst = os.path.join(test_dogs_dir, fname)\n",
    "    shutil.copyfile(src, dst)"
   ]
  },
  {
   "cell_type": "code",
   "execution_count": 20,
   "id": "crude-durham",
   "metadata": {},
   "outputs": [
    {
     "name": "stdout",
     "output_type": "stream",
     "text": [
      "train cats:  1000\n",
      "validation cats:  500\n",
      "test cats:  500\n",
      "\n",
      "train dogs:  1000\n",
      "validation dogs:  500\n",
      "test dogs:  500\n"
     ]
    }
   ],
   "source": [
    "## 각 분할(train, validation, test)의 개수 카운트\n",
    "print('train cats: ', len(os.listdir(train_cats_dir)))\n",
    "print('validation cats: ', len(os.listdir(validation_cats_dir)))\n",
    "print('test cats: ', len(os.listdir(test_cats_dir)))\n",
    "\n",
    "print('\\ntrain dogs: ', len(os.listdir(train_dogs_dir)))\n",
    "print('validation dogs: ', len(os.listdir(validation_dogs_dir)))\n",
    "print('test dogs: ', len(os.listdir(test_dogs_dir)))"
   ]
  },
  {
   "cell_type": "code",
   "execution_count": 21,
   "id": "figured-visibility",
   "metadata": {
    "scrolled": false
   },
   "outputs": [
    {
     "name": "stdout",
     "output_type": "stream",
     "text": [
      "Model: \"sequential_3\"\n",
      "_________________________________________________________________\n",
      "Layer (type)                 Output Shape              Param #   \n",
      "=================================================================\n",
      "conv2d_14 (Conv2D)           (None, 198, 198, 32)      896       \n",
      "_________________________________________________________________\n",
      "max_pooling2d_14 (MaxPooling (None, 99, 99, 32)        0         \n",
      "_________________________________________________________________\n",
      "conv2d_15 (Conv2D)           (None, 97, 97, 64)        18496     \n",
      "_________________________________________________________________\n",
      "max_pooling2d_15 (MaxPooling (None, 48, 48, 64)        0         \n",
      "_________________________________________________________________\n",
      "conv2d_16 (Conv2D)           (None, 46, 46, 128)       73856     \n",
      "_________________________________________________________________\n",
      "max_pooling2d_16 (MaxPooling (None, 23, 23, 128)       0         \n",
      "_________________________________________________________________\n",
      "conv2d_17 (Conv2D)           (None, 21, 21, 128)       147584    \n",
      "_________________________________________________________________\n",
      "max_pooling2d_17 (MaxPooling (None, 10, 10, 128)       0         \n",
      "_________________________________________________________________\n",
      "conv2d_18 (Conv2D)           (None, 8, 8, 128)         147584    \n",
      "_________________________________________________________________\n",
      "max_pooling2d_18 (MaxPooling (None, 4, 4, 128)         0         \n",
      "_________________________________________________________________\n",
      "flatten_3 (Flatten)          (None, 2048)              0         \n",
      "_________________________________________________________________\n",
      "dense_6 (Dense)              (None, 512)               1049088   \n",
      "_________________________________________________________________\n",
      "dense_7 (Dense)              (None, 1)                 513       \n",
      "=================================================================\n",
      "Total params: 1,438,017\n",
      "Trainable params: 1,438,017\n",
      "Non-trainable params: 0\n",
      "_________________________________________________________________\n"
     ]
    }
   ],
   "source": [
    "## 네트워크 구성\n",
    "from keras import layers\n",
    "from keras import models\n",
    "\n",
    "model = models.Sequential()\n",
    "## input data(200,200,3) -> width,height,RGB\n",
    "model.add(layers.Conv2D(32, (3, 3), activation='relu', input_shape=(200,200,3)))\n",
    "model.add(layers.MaxPooling2D(2,2))\n",
    "model.add(layers.Conv2D(64, (3, 3), activation='relu'))\n",
    "model.add(layers.MaxPooling2D(2,2))\n",
    "model.add(layers.Conv2D(128, (3, 3), activation='relu'))\n",
    "model.add(layers.MaxPooling2D(2,2))\n",
    "model.add(layers.Conv2D(128, (3, 3), activation='relu'))\n",
    "model.add(layers.MaxPooling2D(2,2))\n",
    "model.add(layers.Conv2D(128, (3, 3), activation='relu'))\n",
    "model.add(layers.MaxPooling2D(2,2))\n",
    "model.add(layers.Flatten())\n",
    "model.add(layers.Dense(512, activation='relu'))\n",
    "model.add(layers.Dense(1, activation='sigmoid'))\n",
    "\n",
    "model.summary()"
   ]
  },
  {
   "cell_type": "code",
   "execution_count": 22,
   "id": "twelve-hammer",
   "metadata": {},
   "outputs": [],
   "source": [
    "## 모델 컴파일\n",
    "from keras import optimizers\n",
    "\n",
    "model.compile(loss='binary_crossentropy',\n",
    "              optimizer=optimizers.RMSprop(lr=1e-4),\n",
    "              metrics=['acc'])"
   ]
  },
  {
   "cell_type": "code",
   "execution_count": 23,
   "id": "general-earthquake",
   "metadata": {
    "scrolled": true
   },
   "outputs": [
    {
     "name": "stdout",
     "output_type": "stream",
     "text": [
      "Found 2000 images belonging to 2 classes.\n",
      "Found 1000 images belonging to 2 classes.\n"
     ]
    }
   ],
   "source": [
    "## ImageDataGenerator 이미지 전처리\n",
    "from keras.preprocessing.image import ImageDataGenerator\n",
    "\n",
    "## 이미지 파일을 RGB 최대 값 255로 나누어 스케일 조정\n",
    "train_datagen = ImageDataGenerator(rescale=1./255)\n",
    "test_datagen = ImageDataGenerator(rescale=1./255)\n",
    "\n",
    "## generator 생성\n",
    "train_generator = train_datagen.flow_from_directory(\n",
    "    train_dir,             ## 타겟 디렉터리\n",
    "    target_size=(200,200), ## 모든 이미지 크기 변환\n",
    "    batch_size=20,         ## binary_crossentropy 손실을 사용하기 때문에 이진 레이블 필요\n",
    "    class_mode='binary')\n",
    "\n",
    "validation_generator = test_datagen.flow_from_directory(\n",
    "    validation_dir,\n",
    "    target_size=(200,200),\n",
    "    batch_size=20,\n",
    "    class_mode='binary')"
   ]
  },
  {
   "cell_type": "code",
   "execution_count": 24,
   "id": "finite-celebrity",
   "metadata": {
    "scrolled": false
   },
   "outputs": [
    {
     "name": "stdout",
     "output_type": "stream",
     "text": [
      "WARNING:tensorflow:From <ipython-input-24-ee78ee5a8292>:7: Model.fit_generator (from tensorflow.python.keras.engine.training) is deprecated and will be removed in a future version.\n",
      "Instructions for updating:\n",
      "Please use Model.fit, which supports generators.\n",
      "Epoch 1/15\n",
      "100/100 [==============================] - 140s 1s/step - loss: 0.6920 - acc: 0.5220 - val_loss: 0.6841 - val_acc: 0.5930\n",
      "Epoch 2/15\n",
      "100/100 [==============================] - 118s 1s/step - loss: 0.6811 - acc: 0.5670 - val_loss: 0.6918 - val_acc: 0.5110\n",
      "Epoch 3/15\n",
      "100/100 [==============================] - 117s 1s/step - loss: 0.6613 - acc: 0.6020 - val_loss: 0.6524 - val_acc: 0.6220\n",
      "Epoch 4/15\n",
      "100/100 [==============================] - 117s 1s/step - loss: 0.6300 - acc: 0.6475 - val_loss: 0.7278 - val_acc: 0.5320\n",
      "Epoch 5/15\n",
      "100/100 [==============================] - 117s 1s/step - loss: 0.6006 - acc: 0.6780 - val_loss: 0.5976 - val_acc: 0.6860\n",
      "Epoch 6/15\n",
      "100/100 [==============================] - 119s 1s/step - loss: 0.5587 - acc: 0.7120 - val_loss: 0.5876 - val_acc: 0.6720\n",
      "Epoch 7/15\n",
      "100/100 [==============================] - 117s 1s/step - loss: 0.5303 - acc: 0.7295 - val_loss: 0.5665 - val_acc: 0.6980\n",
      "Epoch 8/15\n",
      "100/100 [==============================] - 116s 1s/step - loss: 0.5089 - acc: 0.7500 - val_loss: 0.5683 - val_acc: 0.7010\n",
      "Epoch 9/15\n",
      "100/100 [==============================] - 154s 2s/step - loss: 0.4897 - acc: 0.7625 - val_loss: 0.6399 - val_acc: 0.6630\n",
      "Epoch 10/15\n",
      "100/100 [==============================] - 251s 3s/step - loss: 0.4641 - acc: 0.7835 - val_loss: 0.5600 - val_acc: 0.7180\n",
      "Epoch 11/15\n",
      "100/100 [==============================] - 250s 3s/step - loss: 0.4461 - acc: 0.7960 - val_loss: 0.5546 - val_acc: 0.7260\n",
      "Epoch 12/15\n",
      "100/100 [==============================] - 247s 2s/step - loss: 0.4308 - acc: 0.8045 - val_loss: 0.5401 - val_acc: 0.7260\n",
      "Epoch 13/15\n",
      "100/100 [==============================] - 231s 2s/step - loss: 0.3975 - acc: 0.8205 - val_loss: 0.5424 - val_acc: 0.7150\n",
      "Epoch 14/15\n",
      "100/100 [==============================] - 255s 3s/step - loss: 0.3762 - acc: 0.8355 - val_loss: 0.5479 - val_acc: 0.7420\n",
      "Epoch 15/15\n",
      "100/100 [==============================] - 255s 3s/step - loss: 0.3586 - acc: 0.8435 - val_loss: 0.5558 - val_acc: 0.7430\n"
     ]
    }
   ],
   "source": [
    "## fit_generator 활용하여 모델 훈련\n",
    "history = model.fit_generator(\n",
    "    train_generator,\n",
    "    steps_per_epoch=100,       ## generator는 데이터를 끝없이 생성하기 때문에 얼마나 많은 샘플을 뽑을 것인지 지정\n",
    "    epochs=15,                 ## train_generator에서 batch_size=20 이기 때문에 steps를 100으로 지정\n",
    "    validation_data=validation_generator,\n",
    "    validation_steps=50)"
   ]
  },
  {
   "cell_type": "code",
   "execution_count": 27,
   "id": "located-recognition",
   "metadata": {},
   "outputs": [],
   "source": [
    "model.save('cats_and_dogs_small_2.h5')"
   ]
  },
  {
   "cell_type": "code",
   "execution_count": null,
   "id": "refined-scratch",
   "metadata": {
    "scrolled": true,
    "slideshow": {
     "slide_type": "-"
    }
   },
   "outputs": [],
   "source": [
    "# 시각화\n",
    "import matplotlib.pyplot as plt\n",
    "\n",
    "acc = history.history['acc']\n",
    "val_acc = history.history['val_acc']\n",
    "loss = history.history['loss']\n",
    "val_loss = history.history['val_loss']\n",
    "\n",
    "epochs = range(1, len(acc)+1)\n",
    "\n",
    "plt.plot(epochs, acc, 'bo', label='Training acc')\n",
    "plt.plot(epochs, val_acc, 'b', label='Validation acc')\n",
    "plt.title('Training and validation accuracy')\n",
    "plt.legend()\n",
    "\n",
    "plt.figure()\n",
    "\n",
    "plt.plot(epochs, loss, 'bo', label='Training loss')\n",
    "plt.plot(epochs, val_loss, 'b', label='Validation loss')\n",
    "plt.title('Training and validation loss')\n",
    "plt.legend()\n",
    "\n",
    "plt.show()"
   ]
  }
 ],
 "metadata": {
  "kernelspec": {
   "display_name": "Python 3",
   "language": "python",
   "name": "python3"
  },
  "language_info": {
   "codemirror_mode": {
    "name": "ipython",
    "version": 3
   },
   "file_extension": ".py",
   "mimetype": "text/x-python",
   "name": "python",
   "nbconvert_exporter": "python",
   "pygments_lexer": "ipython3",
   "version": "3.8.11"
  },
  "toc": {
   "base_numbering": 1,
   "nav_menu": {},
   "number_sections": false,
   "sideBar": false,
   "skip_h1_title": false,
   "title_cell": "Table of Contents",
   "title_sidebar": "Contents",
   "toc_cell": true,
   "toc_position": {},
   "toc_section_display": true,
   "toc_window_display": false
  },
  "varInspector": {
   "cols": {
    "lenName": 16,
    "lenType": 16,
    "lenVar": 40
   },
   "kernels_config": {
    "python": {
     "delete_cmd_postfix": "",
     "delete_cmd_prefix": "del ",
     "library": "var_list.py",
     "varRefreshCmd": "print(var_dic_list())"
    },
    "r": {
     "delete_cmd_postfix": ") ",
     "delete_cmd_prefix": "rm(",
     "library": "var_list.r",
     "varRefreshCmd": "cat(var_dic_list()) "
    }
   },
   "types_to_exclude": [
    "module",
    "function",
    "builtin_function_or_method",
    "instance",
    "_Feature"
   ],
   "window_display": false
  }
 },
 "nbformat": 4,
 "nbformat_minor": 5
}
